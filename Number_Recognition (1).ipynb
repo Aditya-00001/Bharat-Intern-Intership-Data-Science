{
  "nbformat": 4,
  "nbformat_minor": 0,
  "metadata": {
    "colab": {
      "provenance": []
    },
    "kernelspec": {
      "name": "python3",
      "display_name": "Python 3"
    },
    "language_info": {
      "name": "python"
    }
  },
  "cells": [
    {
      "cell_type": "markdown",
      "source": [
        "# Importing necessary libraries and packages\n"
      ],
      "metadata": {
        "id": "bvOTnbQlj8Ph"
      }
    },
    {
      "cell_type": "code",
      "execution_count": null,
      "metadata": {
        "id": "GbA4i1m2RE5n"
      },
      "outputs": [],
      "source": [
        "import tensorflow\n",
        "from tensorflow import keras\n",
        "from tensorflow.keras import Sequential\n",
        "from tensorflow.keras.layers import Dense,Flatten"
      ]
    },
    {
      "cell_type": "code",
      "source": [
        "from sklearn.metrics import accuracy_score as a_s\n",
        "import matplotlib.pyplot as plt\n",
        "import seaborn as sns\n",
        "import numpy as np\n"
      ],
      "metadata": {
        "id": "NxBF97JVZJyd"
      },
      "execution_count": null,
      "outputs": []
    },
    {
      "cell_type": "markdown",
      "source": [
        "# Loading datasets and checking the data"
      ],
      "metadata": {
        "id": "-mYRkcWVkO5B"
      }
    },
    {
      "cell_type": "code",
      "source": [
        "(X_train,y_train),(X_test,y_test) = keras.datasets.mnist.load_data()"
      ],
      "metadata": {
        "id": "gX89YeIZSXLD"
      },
      "execution_count": null,
      "outputs": []
    },
    {
      "cell_type": "code",
      "source": [
        "X_train"
      ],
      "metadata": {
        "colab": {
          "base_uri": "https://localhost:8080/"
        },
        "id": "ebyybjfTS4uU",
        "outputId": "f91b5f31-ddfe-4c55-f8b0-3d68071544e2"
      },
      "execution_count": null,
      "outputs": [
        {
          "output_type": "execute_result",
          "data": {
            "text/plain": [
              "array([[[0, 0, 0, ..., 0, 0, 0],\n",
              "        [0, 0, 0, ..., 0, 0, 0],\n",
              "        [0, 0, 0, ..., 0, 0, 0],\n",
              "        ...,\n",
              "        [0, 0, 0, ..., 0, 0, 0],\n",
              "        [0, 0, 0, ..., 0, 0, 0],\n",
              "        [0, 0, 0, ..., 0, 0, 0]],\n",
              "\n",
              "       [[0, 0, 0, ..., 0, 0, 0],\n",
              "        [0, 0, 0, ..., 0, 0, 0],\n",
              "        [0, 0, 0, ..., 0, 0, 0],\n",
              "        ...,\n",
              "        [0, 0, 0, ..., 0, 0, 0],\n",
              "        [0, 0, 0, ..., 0, 0, 0],\n",
              "        [0, 0, 0, ..., 0, 0, 0]],\n",
              "\n",
              "       [[0, 0, 0, ..., 0, 0, 0],\n",
              "        [0, 0, 0, ..., 0, 0, 0],\n",
              "        [0, 0, 0, ..., 0, 0, 0],\n",
              "        ...,\n",
              "        [0, 0, 0, ..., 0, 0, 0],\n",
              "        [0, 0, 0, ..., 0, 0, 0],\n",
              "        [0, 0, 0, ..., 0, 0, 0]],\n",
              "\n",
              "       ...,\n",
              "\n",
              "       [[0, 0, 0, ..., 0, 0, 0],\n",
              "        [0, 0, 0, ..., 0, 0, 0],\n",
              "        [0, 0, 0, ..., 0, 0, 0],\n",
              "        ...,\n",
              "        [0, 0, 0, ..., 0, 0, 0],\n",
              "        [0, 0, 0, ..., 0, 0, 0],\n",
              "        [0, 0, 0, ..., 0, 0, 0]],\n",
              "\n",
              "       [[0, 0, 0, ..., 0, 0, 0],\n",
              "        [0, 0, 0, ..., 0, 0, 0],\n",
              "        [0, 0, 0, ..., 0, 0, 0],\n",
              "        ...,\n",
              "        [0, 0, 0, ..., 0, 0, 0],\n",
              "        [0, 0, 0, ..., 0, 0, 0],\n",
              "        [0, 0, 0, ..., 0, 0, 0]],\n",
              "\n",
              "       [[0, 0, 0, ..., 0, 0, 0],\n",
              "        [0, 0, 0, ..., 0, 0, 0],\n",
              "        [0, 0, 0, ..., 0, 0, 0],\n",
              "        ...,\n",
              "        [0, 0, 0, ..., 0, 0, 0],\n",
              "        [0, 0, 0, ..., 0, 0, 0],\n",
              "        [0, 0, 0, ..., 0, 0, 0]]], dtype=uint8)"
            ]
          },
          "metadata": {},
          "execution_count": 7
        }
      ]
    },
    {
      "cell_type": "code",
      "source": [
        "X_train[0]"
      ],
      "metadata": {
        "colab": {
          "base_uri": "https://localhost:8080/"
        },
        "id": "B4AQT0LXWB7h",
        "outputId": "69d85524-a64c-45f2-9b10-e16754d306fa"
      },
      "execution_count": null,
      "outputs": [
        {
          "output_type": "execute_result",
          "data": {
            "text/plain": [
              "array([[  0,   0,   0,   0,   0,   0,   0,   0,   0,   0,   0,   0,   0,\n",
              "          0,   0,   0,   0,   0,   0,   0,   0,   0,   0,   0,   0,   0,\n",
              "          0,   0],\n",
              "       [  0,   0,   0,   0,   0,   0,   0,   0,   0,   0,   0,   0,   0,\n",
              "          0,   0,   0,   0,   0,   0,   0,   0,   0,   0,   0,   0,   0,\n",
              "          0,   0],\n",
              "       [  0,   0,   0,   0,   0,   0,   0,   0,   0,   0,   0,   0,   0,\n",
              "          0,   0,   0,   0,   0,   0,   0,   0,   0,   0,   0,   0,   0,\n",
              "          0,   0],\n",
              "       [  0,   0,   0,   0,   0,   0,   0,   0,   0,   0,   0,   0,   0,\n",
              "          0,   0,   0,   0,   0,   0,   0,   0,   0,   0,   0,   0,   0,\n",
              "          0,   0],\n",
              "       [  0,   0,   0,   0,   0,   0,   0,   0,   0,   0,   0,   0,   0,\n",
              "          0,   0,   0,   0,   0,   0,   0,   0,   0,   0,   0,   0,   0,\n",
              "          0,   0],\n",
              "       [  0,   0,   0,   0,   0,   0,   0,   0,   0,   0,   0,   0,   3,\n",
              "         18,  18,  18, 126, 136, 175,  26, 166, 255, 247, 127,   0,   0,\n",
              "          0,   0],\n",
              "       [  0,   0,   0,   0,   0,   0,   0,   0,  30,  36,  94, 154, 170,\n",
              "        253, 253, 253, 253, 253, 225, 172, 253, 242, 195,  64,   0,   0,\n",
              "          0,   0],\n",
              "       [  0,   0,   0,   0,   0,   0,   0,  49, 238, 253, 253, 253, 253,\n",
              "        253, 253, 253, 253, 251,  93,  82,  82,  56,  39,   0,   0,   0,\n",
              "          0,   0],\n",
              "       [  0,   0,   0,   0,   0,   0,   0,  18, 219, 253, 253, 253, 253,\n",
              "        253, 198, 182, 247, 241,   0,   0,   0,   0,   0,   0,   0,   0,\n",
              "          0,   0],\n",
              "       [  0,   0,   0,   0,   0,   0,   0,   0,  80, 156, 107, 253, 253,\n",
              "        205,  11,   0,  43, 154,   0,   0,   0,   0,   0,   0,   0,   0,\n",
              "          0,   0],\n",
              "       [  0,   0,   0,   0,   0,   0,   0,   0,   0,  14,   1, 154, 253,\n",
              "         90,   0,   0,   0,   0,   0,   0,   0,   0,   0,   0,   0,   0,\n",
              "          0,   0],\n",
              "       [  0,   0,   0,   0,   0,   0,   0,   0,   0,   0,   0, 139, 253,\n",
              "        190,   2,   0,   0,   0,   0,   0,   0,   0,   0,   0,   0,   0,\n",
              "          0,   0],\n",
              "       [  0,   0,   0,   0,   0,   0,   0,   0,   0,   0,   0,  11, 190,\n",
              "        253,  70,   0,   0,   0,   0,   0,   0,   0,   0,   0,   0,   0,\n",
              "          0,   0],\n",
              "       [  0,   0,   0,   0,   0,   0,   0,   0,   0,   0,   0,   0,  35,\n",
              "        241, 225, 160, 108,   1,   0,   0,   0,   0,   0,   0,   0,   0,\n",
              "          0,   0],\n",
              "       [  0,   0,   0,   0,   0,   0,   0,   0,   0,   0,   0,   0,   0,\n",
              "         81, 240, 253, 253, 119,  25,   0,   0,   0,   0,   0,   0,   0,\n",
              "          0,   0],\n",
              "       [  0,   0,   0,   0,   0,   0,   0,   0,   0,   0,   0,   0,   0,\n",
              "          0,  45, 186, 253, 253, 150,  27,   0,   0,   0,   0,   0,   0,\n",
              "          0,   0],\n",
              "       [  0,   0,   0,   0,   0,   0,   0,   0,   0,   0,   0,   0,   0,\n",
              "          0,   0,  16,  93, 252, 253, 187,   0,   0,   0,   0,   0,   0,\n",
              "          0,   0],\n",
              "       [  0,   0,   0,   0,   0,   0,   0,   0,   0,   0,   0,   0,   0,\n",
              "          0,   0,   0,   0, 249, 253, 249,  64,   0,   0,   0,   0,   0,\n",
              "          0,   0],\n",
              "       [  0,   0,   0,   0,   0,   0,   0,   0,   0,   0,   0,   0,   0,\n",
              "          0,  46, 130, 183, 253, 253, 207,   2,   0,   0,   0,   0,   0,\n",
              "          0,   0],\n",
              "       [  0,   0,   0,   0,   0,   0,   0,   0,   0,   0,   0,   0,  39,\n",
              "        148, 229, 253, 253, 253, 250, 182,   0,   0,   0,   0,   0,   0,\n",
              "          0,   0],\n",
              "       [  0,   0,   0,   0,   0,   0,   0,   0,   0,   0,  24, 114, 221,\n",
              "        253, 253, 253, 253, 201,  78,   0,   0,   0,   0,   0,   0,   0,\n",
              "          0,   0],\n",
              "       [  0,   0,   0,   0,   0,   0,   0,   0,  23,  66, 213, 253, 253,\n",
              "        253, 253, 198,  81,   2,   0,   0,   0,   0,   0,   0,   0,   0,\n",
              "          0,   0],\n",
              "       [  0,   0,   0,   0,   0,   0,  18, 171, 219, 253, 253, 253, 253,\n",
              "        195,  80,   9,   0,   0,   0,   0,   0,   0,   0,   0,   0,   0,\n",
              "          0,   0],\n",
              "       [  0,   0,   0,   0,  55, 172, 226, 253, 253, 253, 253, 244, 133,\n",
              "         11,   0,   0,   0,   0,   0,   0,   0,   0,   0,   0,   0,   0,\n",
              "          0,   0],\n",
              "       [  0,   0,   0,   0, 136, 253, 253, 253, 212, 135, 132,  16,   0,\n",
              "          0,   0,   0,   0,   0,   0,   0,   0,   0,   0,   0,   0,   0,\n",
              "          0,   0],\n",
              "       [  0,   0,   0,   0,   0,   0,   0,   0,   0,   0,   0,   0,   0,\n",
              "          0,   0,   0,   0,   0,   0,   0,   0,   0,   0,   0,   0,   0,\n",
              "          0,   0],\n",
              "       [  0,   0,   0,   0,   0,   0,   0,   0,   0,   0,   0,   0,   0,\n",
              "          0,   0,   0,   0,   0,   0,   0,   0,   0,   0,   0,   0,   0,\n",
              "          0,   0],\n",
              "       [  0,   0,   0,   0,   0,   0,   0,   0,   0,   0,   0,   0,   0,\n",
              "          0,   0,   0,   0,   0,   0,   0,   0,   0,   0,   0,   0,   0,\n",
              "          0,   0]], dtype=uint8)"
            ]
          },
          "metadata": {},
          "execution_count": 9
        }
      ]
    },
    {
      "cell_type": "code",
      "source": [
        "y_train"
      ],
      "metadata": {
        "colab": {
          "base_uri": "https://localhost:8080/"
        },
        "id": "DKxdaBKtV6UH",
        "outputId": "f78ebb44-5fd1-4982-ea11-a66ee0a5fc80"
      },
      "execution_count": null,
      "outputs": [
        {
          "output_type": "execute_result",
          "data": {
            "text/plain": [
              "array([5, 0, 4, ..., 5, 6, 8], dtype=uint8)"
            ]
          },
          "metadata": {},
          "execution_count": 8
        }
      ]
    },
    {
      "cell_type": "markdown",
      "source": [
        "# Value which are large are made closer to each other"
      ],
      "metadata": {
        "id": "EA_KyFDZkh5s"
      }
    },
    {
      "cell_type": "code",
      "source": [
        "X_train = X_train/255\n",
        "X_test = X_test/255"
      ],
      "metadata": {
        "id": "4eUF25GFV-M0"
      },
      "execution_count": 66,
      "outputs": []
    },
    {
      "cell_type": "markdown",
      "source": [
        "# Training and Deploying of the model"
      ],
      "metadata": {
        "id": "-88jMqehk2G9"
      }
    },
    {
      "cell_type": "code",
      "source": [
        "model  = Sequential()"
      ],
      "metadata": {
        "id": "2W5h5aDvWcQG"
      },
      "execution_count": null,
      "outputs": []
    },
    {
      "cell_type": "code",
      "source": [
        "model.add(Flatten(input_shape = (28,28)))\n",
        "model.add(Dense(128,activation = 'relu'))\n",
        "model.add(Dense(32,activation = 'relu'))\n",
        "model.add(Dense(10,activation = 'softmax'))"
      ],
      "metadata": {
        "id": "kfUfJsEZWtbt"
      },
      "execution_count": null,
      "outputs": []
    },
    {
      "cell_type": "code",
      "source": [
        "model.summary()"
      ],
      "metadata": {
        "colab": {
          "base_uri": "https://localhost:8080/"
        },
        "id": "anNAW_YcXQkj",
        "outputId": "468ab0fd-dc32-40c1-e07f-9ba23d4f66fb"
      },
      "execution_count": null,
      "outputs": [
        {
          "output_type": "stream",
          "name": "stdout",
          "text": [
            "Model: \"sequential_1\"\n",
            "_________________________________________________________________\n",
            " Layer (type)                Output Shape              Param #   \n",
            "=================================================================\n",
            " flatten (Flatten)           (None, 784)               0         \n",
            "                                                                 \n",
            " dense (Dense)               (None, 128)               100480    \n",
            "                                                                 \n",
            " dense_1 (Dense)             (None, 10)                1290      \n",
            "                                                                 \n",
            " flatten_1 (Flatten)         (None, 10)                0         \n",
            "                                                                 \n",
            " dense_2 (Dense)             (None, 128)               1408      \n",
            "                                                                 \n",
            " dense_3 (Dense)             (None, 32)                4128      \n",
            "                                                                 \n",
            " dense_4 (Dense)             (None, 10)                330       \n",
            "                                                                 \n",
            " flatten_2 (Flatten)         (None, 10)                0         \n",
            "                                                                 \n",
            " dense_5 (Dense)             (None, 128)               1408      \n",
            "                                                                 \n",
            " dense_6 (Dense)             (None, 32)                4128      \n",
            "                                                                 \n",
            " dense_7 (Dense)             (None, 10)                330       \n",
            "                                                                 \n",
            "=================================================================\n",
            "Total params: 113502 (443.37 KB)\n",
            "Trainable params: 113502 (443.37 KB)\n",
            "Non-trainable params: 0 (0.00 Byte)\n",
            "_________________________________________________________________\n"
          ]
        }
      ]
    },
    {
      "cell_type": "code",
      "source": [
        "model.compile(loss = 'sparse_categorical_crossentropy',optimizer = 'Adam',metrics =['accuracy'] )"
      ],
      "metadata": {
        "id": "9imx0kIKXcEl"
      },
      "execution_count": null,
      "outputs": []
    },
    {
      "cell_type": "code",
      "source": [
        "history = model.fit(X_train,y_train,epochs = 25,validation_split = 0.2)"
      ],
      "metadata": {
        "colab": {
          "base_uri": "https://localhost:8080/"
        },
        "id": "stVlcD6GYQy-",
        "outputId": "c77d2bd0-1f2a-4ec7-fb01-2037f803df71"
      },
      "execution_count": null,
      "outputs": [
        {
          "output_type": "stream",
          "name": "stdout",
          "text": [
            "Epoch 1/25\n",
            "1500/1500 [==============================] - 12s 7ms/step - loss: 0.2079 - accuracy: 0.9628 - val_loss: 0.1638 - val_accuracy: 0.9615\n",
            "Epoch 2/25\n",
            "1500/1500 [==============================] - 9s 6ms/step - loss: 0.0937 - accuracy: 0.9758 - val_loss: 0.1624 - val_accuracy: 0.9611\n",
            "Epoch 3/25\n",
            "1500/1500 [==============================] - 10s 6ms/step - loss: 0.0890 - accuracy: 0.9764 - val_loss: 0.1487 - val_accuracy: 0.9634\n",
            "Epoch 4/25\n",
            "1500/1500 [==============================] - 10s 6ms/step - loss: 0.0862 - accuracy: 0.9764 - val_loss: 0.1539 - val_accuracy: 0.9618\n",
            "Epoch 5/25\n",
            "1500/1500 [==============================] - 10s 7ms/step - loss: 0.0821 - accuracy: 0.9778 - val_loss: 0.1475 - val_accuracy: 0.9642\n",
            "Epoch 6/25\n",
            "1500/1500 [==============================] - 20s 13ms/step - loss: 0.0804 - accuracy: 0.9774 - val_loss: 0.1562 - val_accuracy: 0.9637\n",
            "Epoch 7/25\n",
            "1500/1500 [==============================] - 13s 9ms/step - loss: 0.0754 - accuracy: 0.9794 - val_loss: 0.1465 - val_accuracy: 0.9638\n",
            "Epoch 8/25\n",
            "1500/1500 [==============================] - 10s 7ms/step - loss: 0.0740 - accuracy: 0.9792 - val_loss: 0.1577 - val_accuracy: 0.9626\n",
            "Epoch 9/25\n",
            "1500/1500 [==============================] - 10s 7ms/step - loss: 0.0704 - accuracy: 0.9809 - val_loss: 0.1652 - val_accuracy: 0.9602\n",
            "Epoch 10/25\n",
            "1500/1500 [==============================] - 10s 7ms/step - loss: 0.0671 - accuracy: 0.9818 - val_loss: 0.1520 - val_accuracy: 0.9641\n",
            "Epoch 11/25\n",
            "1500/1500 [==============================] - 14s 9ms/step - loss: 0.0673 - accuracy: 0.9814 - val_loss: 0.1470 - val_accuracy: 0.9654\n",
            "Epoch 12/25\n",
            "1500/1500 [==============================] - 10s 6ms/step - loss: 0.0627 - accuracy: 0.9829 - val_loss: 0.1621 - val_accuracy: 0.9616\n",
            "Epoch 13/25\n",
            "1500/1500 [==============================] - 9s 6ms/step - loss: 0.0632 - accuracy: 0.9826 - val_loss: 0.1409 - val_accuracy: 0.9662\n",
            "Epoch 14/25\n",
            "1500/1500 [==============================] - 9s 6ms/step - loss: 0.0596 - accuracy: 0.9834 - val_loss: 0.1479 - val_accuracy: 0.9654\n",
            "Epoch 15/25\n",
            "1500/1500 [==============================] - 10s 7ms/step - loss: 0.0588 - accuracy: 0.9839 - val_loss: 0.1411 - val_accuracy: 0.9663\n",
            "Epoch 16/25\n",
            "1500/1500 [==============================] - 11s 7ms/step - loss: 0.0560 - accuracy: 0.9844 - val_loss: 0.1501 - val_accuracy: 0.9667\n",
            "Epoch 17/25\n",
            "1500/1500 [==============================] - 8s 6ms/step - loss: 0.0550 - accuracy: 0.9847 - val_loss: 0.1460 - val_accuracy: 0.9663\n",
            "Epoch 18/25\n",
            "1500/1500 [==============================] - 10s 7ms/step - loss: 0.0527 - accuracy: 0.9857 - val_loss: 0.1498 - val_accuracy: 0.9661\n",
            "Epoch 19/25\n",
            "1500/1500 [==============================] - 11s 7ms/step - loss: 0.0516 - accuracy: 0.9860 - val_loss: 0.1546 - val_accuracy: 0.9660\n",
            "Epoch 20/25\n",
            "1500/1500 [==============================] - 10s 7ms/step - loss: 0.0493 - accuracy: 0.9865 - val_loss: 0.1613 - val_accuracy: 0.9667\n",
            "Epoch 21/25\n",
            "1500/1500 [==============================] - 10s 7ms/step - loss: 0.0487 - accuracy: 0.9866 - val_loss: 0.1560 - val_accuracy: 0.9657\n",
            "Epoch 22/25\n",
            "1500/1500 [==============================] - 9s 6ms/step - loss: 0.0461 - accuracy: 0.9873 - val_loss: 0.1473 - val_accuracy: 0.9672\n",
            "Epoch 23/25\n",
            "1500/1500 [==============================] - 10s 7ms/step - loss: 0.0451 - accuracy: 0.9879 - val_loss: 0.1726 - val_accuracy: 0.9647\n",
            "Epoch 24/25\n",
            "1500/1500 [==============================] - 11s 7ms/step - loss: 0.0441 - accuracy: 0.9882 - val_loss: 0.1496 - val_accuracy: 0.9668\n",
            "Epoch 25/25\n",
            "1500/1500 [==============================] - 10s 6ms/step - loss: 0.0443 - accuracy: 0.9878 - val_loss: 0.1554 - val_accuracy: 0.9668\n"
          ]
        }
      ]
    },
    {
      "cell_type": "code",
      "source": [
        "y_prob = model.predict(X_test)"
      ],
      "metadata": {
        "colab": {
          "base_uri": "https://localhost:8080/"
        },
        "id": "pFQMKjG7YaqF",
        "outputId": "5171a097-ff92-4f48-c92d-172e7b07476b"
      },
      "execution_count": null,
      "outputs": [
        {
          "output_type": "stream",
          "name": "stdout",
          "text": [
            "313/313 [==============================] - 1s 2ms/step\n"
          ]
        }
      ]
    },
    {
      "cell_type": "code",
      "source": [
        "y_pred = y_prob.argmax(axis = 1)"
      ],
      "metadata": {
        "id": "UxL-Vtn_Y5Dx"
      },
      "execution_count": null,
      "outputs": []
    },
    {
      "cell_type": "code",
      "source": [
        "a_s(y_test,y_pred)"
      ],
      "metadata": {
        "colab": {
          "base_uri": "https://localhost:8080/"
        },
        "id": "7ZyYYc2GZbQF",
        "outputId": "4d42968f-1acd-421d-d798-5fc412e13fdd"
      },
      "execution_count": null,
      "outputs": [
        {
          "output_type": "execute_result",
          "data": {
            "text/plain": [
              "0.9677"
            ]
          },
          "metadata": {},
          "execution_count": 49
        }
      ]
    },
    {
      "cell_type": "markdown",
      "source": [
        "# Checking the loss and accuracy graph of the model to check how loss is decreasing and accuracy is increasing"
      ],
      "metadata": {
        "id": "3kM0VtS7lGZZ"
      }
    },
    {
      "cell_type": "code",
      "source": [
        "plt.plot(history.history['loss'])\n",
        "plt.plot(history.history['val_loss'])"
      ],
      "metadata": {
        "colab": {
          "base_uri": "https://localhost:8080/",
          "height": 447
        },
        "id": "JYsjeY8NZhkU",
        "outputId": "164d5861-2932-4c2c-9d0a-59de9ace4036"
      },
      "execution_count": null,
      "outputs": [
        {
          "output_type": "execute_result",
          "data": {
            "text/plain": [
              "[<matplotlib.lines.Line2D at 0x7e460e38a3e0>]"
            ]
          },
          "metadata": {},
          "execution_count": 51
        },
        {
          "output_type": "display_data",
          "data": {
            "text/plain": [
              "<Figure size 640x480 with 1 Axes>"
            ],
            "image/png": "[encoded data removed]"
          },
          "metadata": {}
        }
      ]
    },
    {
      "cell_type": "code",
      "source": [
        "plt.plot(history.history['accuracy'])\n",
        "plt.plot(history.history['val_accuracy'])"
      ],
      "metadata": {
        "colab": {
          "base_uri": "https://localhost:8080/",
          "height": 447
        },
        "id": "VlH-FxO3cWnN",
        "outputId": "c658f679-8a19-4005-f5e4-c0dbd954d614"
      },
      "execution_count": null,
      "outputs": [
        {
          "output_type": "execute_result",
          "data": {
            "text/plain": [
              "[<matplotlib.lines.Line2D at 0x7e460e1e2290>]"
            ]
          },
          "metadata": {},
          "execution_count": 52
        },
        {
          "output_type": "display_data",
          "data": {
            "text/plain": [
              "<Figure size 640x480 with 1 Axes>"
            ],
            "image/png": "[encoded data removed]"
          },
          "metadata": {}
        }
      ]
    },
    {
      "cell_type": "code",
      "source": [
        "plt.imshow(X_test[0])"
      ],
      "metadata": {
        "colab": {
          "base_uri": "https://localhost:8080/",
          "height": 447
        },
        "id": "SVRjpQo0cmL1",
        "outputId": "a82e88f4-7256-436d-91f1-9e2825773abf"
      },
      "execution_count": null,
      "outputs": [
        {
          "output_type": "execute_result",
          "data": {
            "text/plain": [
              "<matplotlib.image.AxesImage at 0x7e462822f940>"
            ]
          },
          "metadata": {},
          "execution_count": 54
        },
        {
          "output_type": "display_data",
          "data": {
            "text/plain": [
              "<Figure size 640x480 with 1 Axes>"
            ],
            "image/png": "[encoded data removed]"
          },
          "metadata": {}
        }
      ]
    },
    {
      "cell_type": "markdown",
      "source": [
        "# Predicton by the model"
      ],
      "metadata": {
        "id": "2zvYEY1qlceC"
      }
    },
    {
      "cell_type": "code",
      "source": [
        "model.predict(X_test[1].reshape(1,28,28)).argmax(axis =1)"
      ],
      "metadata": {
        "colab": {
          "base_uri": "https://localhost:8080/"
        },
        "id": "Ul8BCzc3g5ds",
        "outputId": "ff751233-033e-4e6f-ca85-481bb51f3c8e"
      },
      "execution_count": null,
      "outputs": [
        {
          "output_type": "stream",
          "name": "stdout",
          "text": [
            "1/1 [==============================] - 0s 39ms/step\n"
          ]
        },
        {
          "output_type": "execute_result",
          "data": {
            "text/plain": [
              "array([2])"
            ]
          },
          "metadata": {},
          "execution_count": 57
        }
      ]
    },
    {
      "cell_type": "code",
      "source": [
        "for i in range(10):\n",
        "  print(model.predict(X_test[i].reshape(1,28,28)).argmax(axis = 1))"
      ],
      "metadata": {
        "colab": {
          "base_uri": "https://localhost:8080/"
        },
        "id": "QFBptG2IhCoG",
        "outputId": "cf45dd38-076d-4ac2-c625-e1c2cbfe1543"
      },
      "execution_count": null,
      "outputs": [
        {
          "output_type": "stream",
          "name": "stdout",
          "text": [
            "1/1 [==============================] - 0s 98ms/step\n",
            "[7]\n",
            "1/1 [==============================] - 0s 99ms/step\n",
            "[2]\n",
            "1/1 [==============================] - 0s 94ms/step\n",
            "[1]\n",
            "1/1 [==============================] - 0s 90ms/step\n",
            "[0]\n",
            "1/1 [==============================] - 0s 97ms/step\n",
            "[4]\n",
            "1/1 [==============================] - 0s 75ms/step\n",
            "[1]\n",
            "1/1 [==============================] - 0s 94ms/step\n",
            "[4]\n",
            "1/1 [==============================] - 0s 64ms/step\n",
            "[9]\n",
            "1/1 [==============================] - 0s 34ms/step\n",
            "[6]\n",
            "1/1 [==============================] - 0s 37ms/step\n",
            "[9]\n"
          ]
        }
      ]
    }
  ]
}